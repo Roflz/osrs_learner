{
 "cells": [
  {
   "cell_type": "markdown",
   "id": "2c8cfd9b",
   "metadata": {},
   "source": [
    "# 📊 OSRS XP Prediction Model\n",
    "This notebook trains a machine learning model to predict XP gained from actions based on your collected data."
   ]
  },
  {
   "cell_type": "code",
   "execution_count": null,
   "id": "83610098",
   "metadata": {},
   "outputs": [],
   "source": [
    "# Install dependencies (if needed)\n",
    "# !pip install pandas scikit-learn matplotlib joblib\n"
   ]
  },
  {
   "cell_type": "code",
   "execution_count": null,
   "id": "88120a6d",
   "metadata": {},
   "outputs": [],
   "source": [
    "import pandas as pd\n",
    "import matplotlib.pyplot as plt\n",
    "from sklearn.ensemble import RandomForestRegressor\n",
    "from sklearn.model_selection import train_test_split\n",
    "from sklearn.metrics import mean_squared_error\n",
    "import joblib\n",
    "\n",
    "# Load data\n",
    "df = pd.read_csv(\"data/xp_events.csv\")\n",
    "df[\"xp_value\"] = df[\"xp_text\"].str.extract(r'(\\d+)').astype(float)\n",
    "df[\"action_id\"] = df[\"action_type\"].astype(\"category\").cat.codes\n",
    "df[\"xp_type_id\"] = df[\"xp_type\"].astype(\"category\").cat.codes\n",
    "\n",
    "df.to_csv(\"data/clean_xp_data.csv\", index=False)\n",
    "df.head()\n"
   ]
  },
  {
   "cell_type": "markdown",
   "id": "42923b04",
   "metadata": {},
   "source": [
    "## 📈 Visualize XP Distribution by Skill"
   ]
  },
  {
   "cell_type": "code",
   "execution_count": null,
   "id": "13ffa3ec",
   "metadata": {},
   "outputs": [],
   "source": [
    "df.groupby(\"xp_type\")[\"xp_value\"].sum().sort_values(ascending=False).plot(kind='bar', title='Total XP by Skill')\n",
    "plt.ylabel(\"XP\")\n",
    "plt.show()\n"
   ]
  },
  {
   "cell_type": "markdown",
   "id": "bb157529",
   "metadata": {},
   "source": [
    "## 🎯 Train XP Predictor"
   ]
  },
  {
   "cell_type": "code",
   "execution_count": null,
   "id": "3edc7f46",
   "metadata": {},
   "outputs": [],
   "source": [
    "X = df[[\"action_id\", \"xp_type_id\"]]\n",
    "y = df[\"xp_value\"]\n",
    "\n",
    "X_train, X_val, y_train, y_val = train_test_split(X, y, test_size=0.2, random_state=42)\n",
    "\n",
    "model = RandomForestRegressor(n_estimators=100, random_state=42)\n",
    "model.fit(X_train, y_train)\n",
    "\n",
    "preds = model.predict(X_val)\n",
    "rmse = mean_squared_error(y_val, preds, squared=False)\n",
    "print(f\"Validation RMSE: {rmse:.2f}\")\n"
   ]
  },
  {
   "cell_type": "markdown",
   "id": "a8cc3e12",
   "metadata": {},
   "source": [
    "## 💾 Save Model"
   ]
  },
  {
   "cell_type": "code",
   "execution_count": null,
   "id": "d4489e1a",
   "metadata": {},
   "outputs": [],
   "source": [
    "joblib.dump(model, \"models/xp_predictor.pkl\")\n",
    "print(\"Model saved to models/xp_predictor.pkl\")\n"
   ]
  }
 ],
 "metadata": {},
 "nbformat": 4,
 "nbformat_minor": 5
}